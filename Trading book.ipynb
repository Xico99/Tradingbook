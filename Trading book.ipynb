{
 "cells": [
  {
   "cell_type": "code",
   "execution_count": 1,
   "id": "bec5a2b6",
   "metadata": {},
   "outputs": [],
   "source": [
    "import pandas as pd"
   ]
  },
  {
   "cell_type": "code",
   "execution_count": 59,
   "id": "a68be1a7",
   "metadata": {},
   "outputs": [],
   "source": [
    "import math"
   ]
  },
  {
   "cell_type": "code",
   "execution_count": 93,
   "id": "3ce98dce",
   "metadata": {},
   "outputs": [
    {
     "data": {
      "text/html": [
       "<div>\n",
       "<style scoped>\n",
       "    .dataframe tbody tr th:only-of-type {\n",
       "        vertical-align: middle;\n",
       "    }\n",
       "\n",
       "    .dataframe tbody tr th {\n",
       "        vertical-align: top;\n",
       "    }\n",
       "\n",
       "    .dataframe thead th {\n",
       "        text-align: right;\n",
       "    }\n",
       "</style>\n",
       "<table border=\"1\" class=\"dataframe\">\n",
       "  <thead>\n",
       "    <tr style=\"text-align: right;\">\n",
       "      <th></th>\n",
       "      <th>timestamp</th>\n",
       "      <th>order_id</th>\n",
       "      <th>action</th>\n",
       "      <th>ticker</th>\n",
       "      <th>side</th>\n",
       "      <th>price</th>\n",
       "      <th>size</th>\n",
       "    </tr>\n",
       "  </thead>\n",
       "  <tbody>\n",
       "  </tbody>\n",
       "</table>\n",
       "</div>"
      ],
      "text/plain": [
       "Empty DataFrame\n",
       "Columns: [timestamp, order_id, action, ticker, side, price, size]\n",
       "Index: []"
      ]
     },
     "execution_count": 93,
     "metadata": {},
     "output_type": "execute_result"
    }
   ],
   "source": [
    "column_names=['timestamp','order_id','action','ticker','side','price','size']\n",
    "df=pd.DataFrame(columns=column_names)\n",
    "df"
   ]
  },
  {
   "cell_type": "code",
   "execution_count": 94,
   "id": "587259ff",
   "metadata": {},
   "outputs": [],
   "source": [
    "def processOrder(orderbook, order): #this function doens't keep all orders, it changes the 'add' to 'update'/ 'cancel'\n",
    "    # if it's necessary to keep all orders a simple change in the code would solve this problem\n",
    "    x=order.split('|')\n",
    "    if x[2]=='a':\n",
    "        orderbook.loc[len(df)]=x \n",
    "    elif x[2]=='u': #assuming there is already an 'add' order for this order_id and that price doesn't change\n",
    "        orderbook.loc[(orderbook.order_id == x[1]),'timestamp']=x[0]\n",
    "        orderbook.loc[(orderbook.order_id == x[1]),'action']=x[2]\n",
    "        orderbook.loc[(orderbook.order_id == x[1]),'size']=x[3]\n",
    "    else : # assuming there is already and 'add' or 'update' order for this order_id (an if statement would solve this issue)\n",
    "        \n",
    "        orderbook.loc[(orderbook.order_id == x[1]),'timestamp']=x[0]\n",
    "        orderbook.loc[(orderbook.order_id == x[1]),'action']=x[2]\n",
    "    return orderbook\n",
    "          \n",
    "        \n"
   ]
  },
  {
   "cell_type": "code",
   "execution_count": 95,
   "id": "be7b70b9",
   "metadata": {},
   "outputs": [],
   "source": [
    "def getBestBidAndAsk(orderbook,ticker):\n",
    "    if orderbook[orderbook.ticker==ticker].shape[0]==0:\n",
    "        bestbid=0\n",
    "        bestask=0\n",
    "        \n",
    "    else: #this code also gets the bid/ask price from canceled orders\n",
    "          # if this is a problem, a simple solution would be\n",
    "          # bestbid=float(orderbook[.... & (order[action]!='c')].price.max())\n",
    "          # bestask=float(orderbook[.... & (order[action]!='c')].price.min())\n",
    "        \n",
    "        bestbid=float(orderbook[(orderbook['ticker']==ticker) & (orderbook['side']=='B')].price.max())\n",
    "        bestask=float(orderbook[(orderbook['ticker']==ticker) & (orderbook['side']=='S')].price.min())\n",
    "    if math.isnan(bestbid):\n",
    "        bestbid=0\n",
    "    if math.isnan(bestask):\n",
    "        bestask=0\n",
    "    return bestbid,bestask"
   ]
  },
  {
   "cell_type": "code",
   "execution_count": 96,
   "id": "6895ac7c",
   "metadata": {},
   "outputs": [
    {
     "data": {
      "text/html": [
       "<div>\n",
       "<style scoped>\n",
       "    .dataframe tbody tr th:only-of-type {\n",
       "        vertical-align: middle;\n",
       "    }\n",
       "\n",
       "    .dataframe tbody tr th {\n",
       "        vertical-align: top;\n",
       "    }\n",
       "\n",
       "    .dataframe thead th {\n",
       "        text-align: right;\n",
       "    }\n",
       "</style>\n",
       "<table border=\"1\" class=\"dataframe\">\n",
       "  <thead>\n",
       "    <tr style=\"text-align: right;\">\n",
       "      <th></th>\n",
       "      <th>timestamp</th>\n",
       "      <th>order_id</th>\n",
       "      <th>action</th>\n",
       "      <th>ticker</th>\n",
       "      <th>side</th>\n",
       "      <th>price</th>\n",
       "      <th>size</th>\n",
       "    </tr>\n",
       "  </thead>\n",
       "  <tbody>\n",
       "    <tr>\n",
       "      <th>0</th>\n",
       "      <td>1568390243</td>\n",
       "      <td>abbb11</td>\n",
       "      <td>a</td>\n",
       "      <td>AAPL</td>\n",
       "      <td>B</td>\n",
       "      <td>209.00000</td>\n",
       "      <td>100</td>\n",
       "    </tr>\n",
       "  </tbody>\n",
       "</table>\n",
       "</div>"
      ],
      "text/plain": [
       "    timestamp order_id action ticker side      price size\n",
       "0  1568390243   abbb11      a   AAPL    B  209.00000  100"
      ]
     },
     "execution_count": 96,
     "metadata": {},
     "output_type": "execute_result"
    }
   ],
   "source": [
    "data1='1568390243|abbb11|a|AAPL|B|209.00000|100'\n",
    "processOrder(df,data1)"
   ]
  },
  {
   "cell_type": "code",
   "execution_count": 97,
   "id": "55c575ec",
   "metadata": {},
   "outputs": [
    {
     "data": {
      "text/html": [
       "<div>\n",
       "<style scoped>\n",
       "    .dataframe tbody tr th:only-of-type {\n",
       "        vertical-align: middle;\n",
       "    }\n",
       "\n",
       "    .dataframe tbody tr th {\n",
       "        vertical-align: top;\n",
       "    }\n",
       "\n",
       "    .dataframe thead th {\n",
       "        text-align: right;\n",
       "    }\n",
       "</style>\n",
       "<table border=\"1\" class=\"dataframe\">\n",
       "  <thead>\n",
       "    <tr style=\"text-align: right;\">\n",
       "      <th></th>\n",
       "      <th>timestamp</th>\n",
       "      <th>order_id</th>\n",
       "      <th>action</th>\n",
       "      <th>ticker</th>\n",
       "      <th>side</th>\n",
       "      <th>price</th>\n",
       "      <th>size</th>\n",
       "    </tr>\n",
       "  </thead>\n",
       "  <tbody>\n",
       "    <tr>\n",
       "      <th>0</th>\n",
       "      <td>1568390244</td>\n",
       "      <td>abbb11</td>\n",
       "      <td>u</td>\n",
       "      <td>AAPL</td>\n",
       "      <td>B</td>\n",
       "      <td>209.00000</td>\n",
       "      <td>101</td>\n",
       "    </tr>\n",
       "  </tbody>\n",
       "</table>\n",
       "</div>"
      ],
      "text/plain": [
       "    timestamp order_id action ticker side      price size\n",
       "0  1568390244   abbb11      u   AAPL    B  209.00000  101"
      ]
     },
     "execution_count": 97,
     "metadata": {},
     "output_type": "execute_result"
    }
   ],
   "source": [
    "data2='1568390244|abbb11|u|101'\n",
    "processOrder(df,data2)"
   ]
  },
  {
   "cell_type": "code",
   "execution_count": 98,
   "id": "e157c9d3",
   "metadata": {},
   "outputs": [
    {
     "data": {
      "text/html": [
       "<div>\n",
       "<style scoped>\n",
       "    .dataframe tbody tr th:only-of-type {\n",
       "        vertical-align: middle;\n",
       "    }\n",
       "\n",
       "    .dataframe tbody tr th {\n",
       "        vertical-align: top;\n",
       "    }\n",
       "\n",
       "    .dataframe thead th {\n",
       "        text-align: right;\n",
       "    }\n",
       "</style>\n",
       "<table border=\"1\" class=\"dataframe\">\n",
       "  <thead>\n",
       "    <tr style=\"text-align: right;\">\n",
       "      <th></th>\n",
       "      <th>timestamp</th>\n",
       "      <th>order_id</th>\n",
       "      <th>action</th>\n",
       "      <th>ticker</th>\n",
       "      <th>side</th>\n",
       "      <th>price</th>\n",
       "      <th>size</th>\n",
       "    </tr>\n",
       "  </thead>\n",
       "  <tbody>\n",
       "    <tr>\n",
       "      <th>0</th>\n",
       "      <td>1568390204</td>\n",
       "      <td>abbb11</td>\n",
       "      <td>c</td>\n",
       "      <td>AAPL</td>\n",
       "      <td>B</td>\n",
       "      <td>209.00000</td>\n",
       "      <td>101</td>\n",
       "    </tr>\n",
       "  </tbody>\n",
       "</table>\n",
       "</div>"
      ],
      "text/plain": [
       "    timestamp order_id action ticker side      price size\n",
       "0  1568390204   abbb11      c   AAPL    B  209.00000  101"
      ]
     },
     "execution_count": 98,
     "metadata": {},
     "output_type": "execute_result"
    }
   ],
   "source": [
    "data3='1568390204|abbb11|c'\n",
    "processOrder(df,data3)"
   ]
  },
  {
   "cell_type": "code",
   "execution_count": 99,
   "id": "d47509ef",
   "metadata": {},
   "outputs": [
    {
     "data": {
      "text/html": [
       "<div>\n",
       "<style scoped>\n",
       "    .dataframe tbody tr th:only-of-type {\n",
       "        vertical-align: middle;\n",
       "    }\n",
       "\n",
       "    .dataframe tbody tr th {\n",
       "        vertical-align: top;\n",
       "    }\n",
       "\n",
       "    .dataframe thead th {\n",
       "        text-align: right;\n",
       "    }\n",
       "</style>\n",
       "<table border=\"1\" class=\"dataframe\">\n",
       "  <thead>\n",
       "    <tr style=\"text-align: right;\">\n",
       "      <th></th>\n",
       "      <th>timestamp</th>\n",
       "      <th>order_id</th>\n",
       "      <th>action</th>\n",
       "      <th>ticker</th>\n",
       "      <th>side</th>\n",
       "      <th>price</th>\n",
       "      <th>size</th>\n",
       "    </tr>\n",
       "  </thead>\n",
       "  <tbody>\n",
       "    <tr>\n",
       "      <th>0</th>\n",
       "      <td>1568390204</td>\n",
       "      <td>abbb11</td>\n",
       "      <td>c</td>\n",
       "      <td>AAPL</td>\n",
       "      <td>B</td>\n",
       "      <td>209.00000</td>\n",
       "      <td>101</td>\n",
       "    </tr>\n",
       "    <tr>\n",
       "      <th>1</th>\n",
       "      <td>1568390202</td>\n",
       "      <td>abbb12</td>\n",
       "      <td>a</td>\n",
       "      <td>AAPL</td>\n",
       "      <td>S</td>\n",
       "      <td>210.00000</td>\n",
       "      <td>10</td>\n",
       "    </tr>\n",
       "  </tbody>\n",
       "</table>\n",
       "</div>"
      ],
      "text/plain": [
       "    timestamp order_id action ticker side      price size\n",
       "0  1568390204   abbb11      c   AAPL    B  209.00000  101\n",
       "1  1568390202   abbb12      a   AAPL    S  210.00000   10"
      ]
     },
     "execution_count": 99,
     "metadata": {},
     "output_type": "execute_result"
    }
   ],
   "source": [
    "data4='1568390202|abbb12|a|AAPL|S|210.00000|10'\n",
    "processOrder(df,data4)"
   ]
  },
  {
   "cell_type": "code",
   "execution_count": 100,
   "id": "57f23980",
   "metadata": {},
   "outputs": [
    {
     "data": {
      "text/html": [
       "<div>\n",
       "<style scoped>\n",
       "    .dataframe tbody tr th:only-of-type {\n",
       "        vertical-align: middle;\n",
       "    }\n",
       "\n",
       "    .dataframe tbody tr th {\n",
       "        vertical-align: top;\n",
       "    }\n",
       "\n",
       "    .dataframe thead th {\n",
       "        text-align: right;\n",
       "    }\n",
       "</style>\n",
       "<table border=\"1\" class=\"dataframe\">\n",
       "  <thead>\n",
       "    <tr style=\"text-align: right;\">\n",
       "      <th></th>\n",
       "      <th>timestamp</th>\n",
       "      <th>order_id</th>\n",
       "      <th>action</th>\n",
       "      <th>ticker</th>\n",
       "      <th>side</th>\n",
       "      <th>price</th>\n",
       "      <th>size</th>\n",
       "    </tr>\n",
       "  </thead>\n",
       "  <tbody>\n",
       "    <tr>\n",
       "      <th>0</th>\n",
       "      <td>1568390204</td>\n",
       "      <td>abbb11</td>\n",
       "      <td>c</td>\n",
       "      <td>AAPL</td>\n",
       "      <td>B</td>\n",
       "      <td>209.00000</td>\n",
       "      <td>101</td>\n",
       "    </tr>\n",
       "    <tr>\n",
       "      <th>1</th>\n",
       "      <td>1568390203</td>\n",
       "      <td>abbb12</td>\n",
       "      <td>u</td>\n",
       "      <td>AAPL</td>\n",
       "      <td>S</td>\n",
       "      <td>210.00000</td>\n",
       "      <td>101</td>\n",
       "    </tr>\n",
       "  </tbody>\n",
       "</table>\n",
       "</div>"
      ],
      "text/plain": [
       "    timestamp order_id action ticker side      price size\n",
       "0  1568390204   abbb11      c   AAPL    B  209.00000  101\n",
       "1  1568390203   abbb12      u   AAPL    S  210.00000  101"
      ]
     },
     "execution_count": 100,
     "metadata": {},
     "output_type": "execute_result"
    }
   ],
   "source": [
    "data5='1568390203|abbb12|u|101'\n",
    "processOrder(df,data5)"
   ]
  },
  {
   "cell_type": "code",
   "execution_count": 101,
   "id": "5c655a8c",
   "metadata": {
    "scrolled": true
   },
   "outputs": [
    {
     "data": {
      "text/plain": [
       "(209.0, 210.0)"
      ]
     },
     "execution_count": 101,
     "metadata": {},
     "output_type": "execute_result"
    }
   ],
   "source": [
    "getBestBidAndAsk(df,'AAPL')"
   ]
  },
  {
   "cell_type": "code",
   "execution_count": 102,
   "id": "ddbb1f3f",
   "metadata": {},
   "outputs": [
    {
     "data": {
      "text/html": [
       "<div>\n",
       "<style scoped>\n",
       "    .dataframe tbody tr th:only-of-type {\n",
       "        vertical-align: middle;\n",
       "    }\n",
       "\n",
       "    .dataframe tbody tr th {\n",
       "        vertical-align: top;\n",
       "    }\n",
       "\n",
       "    .dataframe thead th {\n",
       "        text-align: right;\n",
       "    }\n",
       "</style>\n",
       "<table border=\"1\" class=\"dataframe\">\n",
       "  <thead>\n",
       "    <tr style=\"text-align: right;\">\n",
       "      <th></th>\n",
       "      <th>timestamp</th>\n",
       "      <th>order_id</th>\n",
       "      <th>action</th>\n",
       "      <th>ticker</th>\n",
       "      <th>side</th>\n",
       "      <th>price</th>\n",
       "      <th>size</th>\n",
       "    </tr>\n",
       "  </thead>\n",
       "  <tbody>\n",
       "    <tr>\n",
       "      <th>0</th>\n",
       "      <td>1568390204</td>\n",
       "      <td>abbb11</td>\n",
       "      <td>c</td>\n",
       "      <td>AAPL</td>\n",
       "      <td>B</td>\n",
       "      <td>209.00000</td>\n",
       "      <td>101</td>\n",
       "    </tr>\n",
       "    <tr>\n",
       "      <th>1</th>\n",
       "      <td>1568390203</td>\n",
       "      <td>abbb12</td>\n",
       "      <td>u</td>\n",
       "      <td>AAPL</td>\n",
       "      <td>S</td>\n",
       "      <td>210.00000</td>\n",
       "      <td>101</td>\n",
       "    </tr>\n",
       "    <tr>\n",
       "      <th>2</th>\n",
       "      <td>1568390202</td>\n",
       "      <td>abbb13</td>\n",
       "      <td>a</td>\n",
       "      <td>AAPL</td>\n",
       "      <td>S</td>\n",
       "      <td>209.50000</td>\n",
       "      <td>10</td>\n",
       "    </tr>\n",
       "  </tbody>\n",
       "</table>\n",
       "</div>"
      ],
      "text/plain": [
       "    timestamp order_id action ticker side      price size\n",
       "0  1568390204   abbb11      c   AAPL    B  209.00000  101\n",
       "1  1568390203   abbb12      u   AAPL    S  210.00000  101\n",
       "2  1568390202   abbb13      a   AAPL    S  209.50000   10"
      ]
     },
     "execution_count": 102,
     "metadata": {},
     "output_type": "execute_result"
    }
   ],
   "source": [
    "data6='1568390202|abbb13|a|AAPL|S|209.50000|10'\n",
    "processOrder(df,data6)"
   ]
  },
  {
   "cell_type": "code",
   "execution_count": 103,
   "id": "b3a5ae9c",
   "metadata": {},
   "outputs": [
    {
     "data": {
      "text/plain": [
       "(209.0, 209.5)"
      ]
     },
     "execution_count": 103,
     "metadata": {},
     "output_type": "execute_result"
    }
   ],
   "source": [
    "getBestBidAndAsk(df,'AAPL')"
   ]
  },
  {
   "cell_type": "code",
   "execution_count": 104,
   "id": "77cf100f",
   "metadata": {},
   "outputs": [
    {
     "data": {
      "text/html": [
       "<div>\n",
       "<style scoped>\n",
       "    .dataframe tbody tr th:only-of-type {\n",
       "        vertical-align: middle;\n",
       "    }\n",
       "\n",
       "    .dataframe tbody tr th {\n",
       "        vertical-align: top;\n",
       "    }\n",
       "\n",
       "    .dataframe thead th {\n",
       "        text-align: right;\n",
       "    }\n",
       "</style>\n",
       "<table border=\"1\" class=\"dataframe\">\n",
       "  <thead>\n",
       "    <tr style=\"text-align: right;\">\n",
       "      <th></th>\n",
       "      <th>timestamp</th>\n",
       "      <th>order_id</th>\n",
       "      <th>action</th>\n",
       "      <th>ticker</th>\n",
       "      <th>side</th>\n",
       "      <th>price</th>\n",
       "      <th>size</th>\n",
       "    </tr>\n",
       "  </thead>\n",
       "  <tbody>\n",
       "    <tr>\n",
       "      <th>0</th>\n",
       "      <td>1568390204</td>\n",
       "      <td>abbb11</td>\n",
       "      <td>c</td>\n",
       "      <td>AAPL</td>\n",
       "      <td>B</td>\n",
       "      <td>209.00000</td>\n",
       "      <td>101</td>\n",
       "    </tr>\n",
       "    <tr>\n",
       "      <th>1</th>\n",
       "      <td>1568390203</td>\n",
       "      <td>abbb12</td>\n",
       "      <td>u</td>\n",
       "      <td>AAPL</td>\n",
       "      <td>S</td>\n",
       "      <td>210.00000</td>\n",
       "      <td>101</td>\n",
       "    </tr>\n",
       "    <tr>\n",
       "      <th>2</th>\n",
       "      <td>1568390202</td>\n",
       "      <td>abbb13</td>\n",
       "      <td>a</td>\n",
       "      <td>AAPL</td>\n",
       "      <td>S</td>\n",
       "      <td>209.50000</td>\n",
       "      <td>10</td>\n",
       "    </tr>\n",
       "    <tr>\n",
       "      <th>3</th>\n",
       "      <td>1568390202</td>\n",
       "      <td>abbb14</td>\n",
       "      <td>a</td>\n",
       "      <td>AAPL</td>\n",
       "      <td>B</td>\n",
       "      <td>209.20000</td>\n",
       "      <td>10</td>\n",
       "    </tr>\n",
       "  </tbody>\n",
       "</table>\n",
       "</div>"
      ],
      "text/plain": [
       "    timestamp order_id action ticker side      price size\n",
       "0  1568390204   abbb11      c   AAPL    B  209.00000  101\n",
       "1  1568390203   abbb12      u   AAPL    S  210.00000  101\n",
       "2  1568390202   abbb13      a   AAPL    S  209.50000   10\n",
       "3  1568390202   abbb14      a   AAPL    B  209.20000   10"
      ]
     },
     "execution_count": 104,
     "metadata": {},
     "output_type": "execute_result"
    }
   ],
   "source": [
    "data7='1568390202|abbb14|a|AAPL|B|209.20000|10'\n",
    "processOrder(df,data7)"
   ]
  },
  {
   "cell_type": "code",
   "execution_count": 105,
   "id": "4fab37a0",
   "metadata": {},
   "outputs": [
    {
     "data": {
      "text/plain": [
       "(209.2, 209.5)"
      ]
     },
     "execution_count": 105,
     "metadata": {},
     "output_type": "execute_result"
    }
   ],
   "source": [
    "getBestBidAndAsk(df,'AAPL')"
   ]
  },
  {
   "cell_type": "code",
   "execution_count": 106,
   "id": "297d3aeb",
   "metadata": {},
   "outputs": [
    {
     "data": {
      "text/html": [
       "<div>\n",
       "<style scoped>\n",
       "    .dataframe tbody tr th:only-of-type {\n",
       "        vertical-align: middle;\n",
       "    }\n",
       "\n",
       "    .dataframe tbody tr th {\n",
       "        vertical-align: top;\n",
       "    }\n",
       "\n",
       "    .dataframe thead th {\n",
       "        text-align: right;\n",
       "    }\n",
       "</style>\n",
       "<table border=\"1\" class=\"dataframe\">\n",
       "  <thead>\n",
       "    <tr style=\"text-align: right;\">\n",
       "      <th></th>\n",
       "      <th>timestamp</th>\n",
       "      <th>order_id</th>\n",
       "      <th>action</th>\n",
       "      <th>ticker</th>\n",
       "      <th>side</th>\n",
       "      <th>price</th>\n",
       "      <th>size</th>\n",
       "    </tr>\n",
       "  </thead>\n",
       "  <tbody>\n",
       "    <tr>\n",
       "      <th>0</th>\n",
       "      <td>1568390204</td>\n",
       "      <td>abbb11</td>\n",
       "      <td>c</td>\n",
       "      <td>AAPL</td>\n",
       "      <td>B</td>\n",
       "      <td>209.00000</td>\n",
       "      <td>101</td>\n",
       "    </tr>\n",
       "    <tr>\n",
       "      <th>1</th>\n",
       "      <td>1568390203</td>\n",
       "      <td>abbb12</td>\n",
       "      <td>u</td>\n",
       "      <td>AAPL</td>\n",
       "      <td>S</td>\n",
       "      <td>210.00000</td>\n",
       "      <td>101</td>\n",
       "    </tr>\n",
       "    <tr>\n",
       "      <th>2</th>\n",
       "      <td>1568390202</td>\n",
       "      <td>abbb13</td>\n",
       "      <td>a</td>\n",
       "      <td>AAPL</td>\n",
       "      <td>S</td>\n",
       "      <td>209.50000</td>\n",
       "      <td>10</td>\n",
       "    </tr>\n",
       "    <tr>\n",
       "      <th>3</th>\n",
       "      <td>1568390202</td>\n",
       "      <td>abbb14</td>\n",
       "      <td>a</td>\n",
       "      <td>AAPL</td>\n",
       "      <td>B</td>\n",
       "      <td>209.20000</td>\n",
       "      <td>10</td>\n",
       "    </tr>\n",
       "    <tr>\n",
       "      <th>4</th>\n",
       "      <td>1568390300</td>\n",
       "      <td>msft1</td>\n",
       "      <td>a</td>\n",
       "      <td>MSFT</td>\n",
       "      <td>B</td>\n",
       "      <td>200.0000</td>\n",
       "      <td>10</td>\n",
       "    </tr>\n",
       "  </tbody>\n",
       "</table>\n",
       "</div>"
      ],
      "text/plain": [
       "    timestamp order_id action ticker side      price size\n",
       "0  1568390204   abbb11      c   AAPL    B  209.00000  101\n",
       "1  1568390203   abbb12      u   AAPL    S  210.00000  101\n",
       "2  1568390202   abbb13      a   AAPL    S  209.50000   10\n",
       "3  1568390202   abbb14      a   AAPL    B  209.20000   10\n",
       "4  1568390300    msft1      a   MSFT    B   200.0000   10"
      ]
     },
     "execution_count": 106,
     "metadata": {},
     "output_type": "execute_result"
    }
   ],
   "source": [
    "data='1568390300|msft1|a|MSFT|B|200.0000|10'\n",
    "processOrder(df,data)"
   ]
  },
  {
   "cell_type": "code",
   "execution_count": 107,
   "id": "f899e856",
   "metadata": {},
   "outputs": [
    {
     "data": {
      "text/plain": [
       "(200.0, 0)"
      ]
     },
     "execution_count": 107,
     "metadata": {},
     "output_type": "execute_result"
    }
   ],
   "source": [
    "getBestBidAndAsk(df,'MSFT')"
   ]
  },
  {
   "cell_type": "code",
   "execution_count": 108,
   "id": "c2b8f32e",
   "metadata": {},
   "outputs": [
    {
     "data": {
      "text/plain": [
       "(0, 0)"
      ]
     },
     "execution_count": 108,
     "metadata": {},
     "output_type": "execute_result"
    }
   ],
   "source": [
    "getBestBidAndAsk(df,'SHOP')"
   ]
  },
  {
   "cell_type": "code",
   "execution_count": null,
   "id": "8dd6eaf9",
   "metadata": {},
   "outputs": [],
   "source": []
  }
 ],
 "metadata": {
  "kernelspec": {
   "display_name": "Python 3 (ipykernel)",
   "language": "python",
   "name": "python3"
  },
  "language_info": {
   "codemirror_mode": {
    "name": "ipython",
    "version": 3
   },
   "file_extension": ".py",
   "mimetype": "text/x-python",
   "name": "python",
   "nbconvert_exporter": "python",
   "pygments_lexer": "ipython3",
   "version": "3.10.0"
  }
 },
 "nbformat": 4,
 "nbformat_minor": 5
}
